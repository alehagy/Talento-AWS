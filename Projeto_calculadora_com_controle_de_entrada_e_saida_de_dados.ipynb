{
  "nbformat": 4,
  "nbformat_minor": 0,
  "metadata": {
    "colab": {
      "provenance": [],
      "authorship_tag": "ABX9TyM9Ylu+6mwc2MY9o9KfXILh",
      "include_colab_link": true
    },
    "kernelspec": {
      "name": "python3",
      "display_name": "Python 3"
    },
    "language_info": {
      "name": "python"
    }
  },
  "cells": [
    {
      "cell_type": "markdown",
      "metadata": {
        "id": "view-in-github",
        "colab_type": "text"
      },
      "source": [
        "<a href=\"https://colab.research.google.com/github/alehagy/Talento-AWS/blob/main/Projeto_calculadora_com_controle_de_entrada_e_saida_de_dados.ipynb\" target=\"_parent\"><img src=\"https://colab.research.google.com/assets/colab-badge.svg\" alt=\"Open In Colab\"/></a>"
      ]
    },
    {
      "cell_type": "code",
      "execution_count": 3,
      "metadata": {
        "colab": {
          "base_uri": "https://localhost:8080/"
        },
        "id": "Zk6Yk6qgplxQ",
        "outputId": "0cefcef3-df22-4a42-e0bf-da4702c73d54"
      },
      "outputs": [
        {
          "output_type": "stream",
          "name": "stdout",
          "text": [
            "Digite 1o.numero: \n",
            "3\n",
            "Digite 2o.numero: \n",
            "5\n",
            "Tipo de operacao, caso digite 0, sistema saira: \n",
            "3\n",
            "1o.numero digitado foi:  3\n",
            "2o.numero digitado foi:  5\n",
            "Operacao digitada foi: multiplicacao\n",
            "3*5=15\n",
            "Digite 1o.numero: \n",
            "0\n",
            "Digite 2o.numero: \n",
            "6\n",
            "Tipo de operacao, caso digite 0, sistema saira: \n",
            "0\n",
            "Fim de laco\n"
          ]
        }
      ],
      "source": [
        "#tipos operacao\n",
        "#1.soma\n",
        "#2.subtracao\n",
        "#3.multiplicacao\n",
        "#4.divisao\n",
        "#0.sair\n",
        "\n",
        "def calculadoranota(nota1, nota2, operacao):\n",
        "  if (operacao == 0):\n",
        "    frase = \"sair\"\n",
        "    return frase\n",
        "  elif (operacao == 1):\n",
        "    calculo = str(nota1+nota2)\n",
        "    frase = str (nota1) + \"+\" + str(nota2) + \"=\" + calculo\n",
        "    return frase\n",
        "  elif (operacao == 2):\n",
        "      calculo = str(nota1-nota2)\n",
        "      frase = str (nota1) + \"-\" + str(nota2) + \"=\" + calculo\n",
        "      return frase\n",
        "  elif (operacao == 3):\n",
        "        calculo = str(nota1*nota2)\n",
        "        frase = str (nota1) + \"*\" + str(nota2) + \"=\" + calculo\n",
        "        return frase\n",
        "  elif (operacao == 4):\n",
        "        calculo = str(nota1/nota2)\n",
        "        frase = str (nota1) + \"/\" + str(nota2) + \"=\" + calculo\n",
        "        return frase\n",
        "  else: return \"erro\"\n",
        "\n",
        "#nota1 = 4\n",
        "#nota2 = 5\n",
        "#operacao = 3\n",
        "operacao=\" \"\n",
        "\n",
        "\n",
        "while (operacao != 0):\n",
        "  print (\"Digite 1o.numero: \")\n",
        "  nota1=int(input())\n",
        "  print (\"Digite 2o.numero: \")\n",
        "  nota2=int(input())\n",
        "  print (\"Tipo de operacao, caso digite 0, sistema saira: \")\n",
        "  operacao=int(input())\n",
        "\n",
        "\n",
        "  if (operacao == 1):\n",
        "    operador = 'soma'\n",
        "  elif (operacao == 2):\n",
        "      operador = 'subtracao'\n",
        "  elif (operacao == 3):\n",
        "      operador = 'multiplicacao'\n",
        "  elif (operacao == 4):\n",
        "      operador = 'divisao'\n",
        "\n",
        "\n",
        "  resultado=calculadoranota(nota1, nota2, operacao)\n",
        "  if resultado == \"erro\":\n",
        "    print (\"Essa opção não existe\")\n",
        "  elif resultado != \"sair\":\n",
        "    print (\"1o.numero digitado foi: \", nota1)\n",
        "    print (\"2o.numero digitado foi: \", nota2)\n",
        "    print (\"Operacao digitada foi:\", operador)\n",
        "    print (resultado)\n",
        "print (\"Fim de laco\")\n",
        "\n",
        "\n"
      ]
    }
  ]
}