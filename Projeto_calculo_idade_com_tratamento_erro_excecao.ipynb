{
  "nbformat": 4,
  "nbformat_minor": 0,
  "metadata": {
    "colab": {
      "provenance": [],
      "authorship_tag": "ABX9TyNSoVoTUdC0pZpgVzW1mKwR",
      "include_colab_link": true
    },
    "kernelspec": {
      "name": "python3",
      "display_name": "Python 3"
    },
    "language_info": {
      "name": "python"
    }
  },
  "cells": [
    {
      "cell_type": "markdown",
      "metadata": {
        "id": "view-in-github",
        "colab_type": "text"
      },
      "source": [
        "<a href=\"https://colab.research.google.com/github/alehagy/Talento-AWS/blob/main/Projeto_calculo_idade_com_tratamento_erro_excecao.ipynb\" target=\"_parent\"><img src=\"https://colab.research.google.com/assets/colab-badge.svg\" alt=\"Open In Colab\"/></a>"
      ]
    },
    {
      "cell_type": "code",
      "execution_count": 13,
      "metadata": {
        "colab": {
          "base_uri": "https://localhost:8080/"
        },
        "id": "J0zkyYpgzD9T",
        "outputId": "41723a63-ac70-4664-dd89-983ef8198a34"
      },
      "outputs": [
        {
          "output_type": "stream",
          "name": "stdout",
          "text": [
            "Digite nome usuario: \n",
            "hagy\n",
            "Digite ano nascimento entre 1992 e 2021: \n",
            "2022\n",
            "Digite ano nascimento entre 1992 e 2021: \n",
            "vv\n",
            "Nao foi digitado um numero \n",
            "Digite ano nascimento entre 1992 e 2021: \n",
            "2020\n",
            "Fim de laco1\n",
            "Fim de laco\n",
            "Nome usuario:  hagy\n",
            "Ano nascimento do usuario e : 2020\n",
            "A idadde do usuario e: 2 anos\n"
          ]
        }
      ],
      "source": [
        "\n",
        "def calculaidade(ano, ano_atual):\n",
        "  calculo = str(ano_atual - ano)\n",
        "  return calculo\n",
        "\n",
        "ano_atual=2022\n",
        "loop = \"S\"\n",
        "loop2 = \"S\"\n",
        "print (\"Digite nome usuario: \")\n",
        "nome=input()\n",
        "\n",
        "while (loop2 == \"S\"):\n",
        "  while (loop == \"S\"):\n",
        "    try:\n",
        "      print (\"Digite ano nascimento entre 1992 e 2021: \")\n",
        "      ano = int(input())\n",
        "      if (ano >= 1992):\n",
        "        if (ano <= 2021):\n",
        "          resultado=calculaidade(ano, ano_atual)\n",
        "          loop2 = \"N\"\n",
        "          loop = \"N\"\n",
        "    except:\n",
        "        print (\"Nao foi digitado um numero \")\n",
        "        ano = 0\n",
        "\n",
        "  print (\"Fim de laco1\")\n",
        "\n",
        "\n",
        "print (\"Fim de laco\")\n",
        "\n",
        "\n",
        "print (\"Nome usuario: \", nome)\n",
        "print (\"Ano nascimento do usuario e : \" + str(ano))\n",
        "print (\"A idadde do usuario e: \" + resultado + \" anos\")\n",
        "\n",
        "\n"
      ]
    }
  ]
}