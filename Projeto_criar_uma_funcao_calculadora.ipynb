{
  "nbformat": 4,
  "nbformat_minor": 0,
  "metadata": {
    "colab": {
      "provenance": [],
      "authorship_tag": "ABX9TyNUouzH3MxrFW3cX6jf+xyN",
      "include_colab_link": true
    },
    "kernelspec": {
      "name": "python3",
      "display_name": "Python 3"
    },
    "language_info": {
      "name": "python"
    }
  },
  "cells": [
    {
      "cell_type": "markdown",
      "metadata": {
        "id": "view-in-github",
        "colab_type": "text"
      },
      "source": [
        "<a href=\"https://colab.research.google.com/github/alehagy/Talento-AWS/blob/main/Projeto_criar_uma_funcao_calculadora.ipynb\" target=\"_parent\"><img src=\"https://colab.research.google.com/assets/colab-badge.svg\" alt=\"Open In Colab\"/></a>"
      ]
    },
    {
      "cell_type": "code",
      "execution_count": null,
      "metadata": {
        "colab": {
          "base_uri": "https://localhost:8080/"
        },
        "id": "kZm5p-8NsGTe",
        "outputId": "7f3a1395-1fe4-4853-beda-25fceba29def"
      },
      "outputs": [
        {
          "output_type": "stream",
          "name": "stdout",
          "text": [
            "4*5=20\n"
          ]
        }
      ],
      "source": [
        "\n",
        "#tipos operacao\n",
        "#1.soma\n",
        "#2.subtracao\n",
        "#3.multiplicacao\n",
        "#4.divisao\n",
        "\n",
        "def calculadoranota(nota1, nota2, operacao):\n",
        "  if (operacao == 1):\n",
        "    calculo = str(nota1+nota2)\n",
        "    frase = str (nota1) + \"+\" + str(nota2) + \"=\" + calculo\n",
        "    return frase\n",
        "  elif (operacao == 2):\n",
        "      calculo = str(nota1-nota2)\n",
        "      frase = str (nota1) + \"-\" + str(nota2) + \"=\" + calculo\n",
        "      return frase\n",
        "  elif (operacao == 3):\n",
        "        calculo = str(nota1*nota2)\n",
        "        frase = str (nota1) + \"*\" + str(nota2) + \"=\" + calculo\n",
        "        return frase\n",
        "  elif (operacao == 4):\n",
        "        calculo = str(nota1/nota2)\n",
        "        frase = str (nota1) + \"/\" + str(nota2) + \"=\" + calculo\n",
        "        return frase\n",
        "  else: return \"erro\"\n",
        "\n",
        "nota1 = 4\n",
        "nota2 = 5\n",
        "operacao = 3\n",
        "resultado=calculadoranota(nota1, nota2, operacao)\n",
        "if resultado == \"erro\":\n",
        "  print (\"Operacao inexistente\")\n",
        "else:\n",
        "  print (resultado)\n",
        "\n"
      ]
    }
  ]
}