{
  "nbformat": 4,
  "nbformat_minor": 0,
  "metadata": {
    "colab": {
      "provenance": [],
      "authorship_tag": "ABX9TyORLLFLhkxfAz9mECETU+t4",
      "include_colab_link": true
    },
    "kernelspec": {
      "name": "python3",
      "display_name": "Python 3"
    },
    "language_info": {
      "name": "python"
    }
  },
  "cells": [
    {
      "cell_type": "markdown",
      "metadata": {
        "id": "view-in-github",
        "colab_type": "text"
      },
      "source": [
        "<a href=\"https://colab.research.google.com/github/alehagy/Talento-AWS/blob/main/Projeto_Impressao_andares_Estrutura_repeticao.ipynb\" target=\"_parent\"><img src=\"https://colab.research.google.com/assets/colab-badge.svg\" alt=\"Open In Colab\"/></a>"
      ]
    },
    {
      "cell_type": "code",
      "execution_count": 42,
      "metadata": {
        "colab": {
          "base_uri": "https://localhost:8080/",
          "height": 140
        },
        "id": "VCny5PeSXD79",
        "outputId": "2be168f0-afd6-43a3-d58e-524cc5d7225b"
      },
      "outputs": [
        {
          "output_type": "error",
          "ename": "IndentationError",
          "evalue": "ignored",
          "traceback": [
            "\u001b[0;36m  File \u001b[0;32m\"<tokenize>\"\u001b[0;36m, line \u001b[0;32m23\u001b[0m\n\u001b[0;31m    any andar < = 20:\u001b[0m\n\u001b[0m    ^\u001b[0m\n\u001b[0;31mIndentationError\u001b[0m\u001b[0;31m:\u001b[0m unindent does not match any outer indentation level\n"
          ]
        }
      ],
      "source": [
        "\n",
        "# 1o.codigo\n",
        "naoandar=13\n",
        "\n",
        "#for andar in range(20):\n",
        "#  if andar != 0:\n",
        "#    if andar != naoandar:\n",
        "#      print('Andar Numero: ', str(andar))\n",
        "#  andar +=1\n",
        "\n",
        "# 2o.codigo\n",
        "#andar = 1\n",
        "#\n",
        "#while (andar <= 20):\n",
        "#  if andar != 13:\n",
        "#   print('Andar Numero: ', str(andar))\n",
        "#  andar +=1\n",
        "\n"
      ]
    }
  ]
}